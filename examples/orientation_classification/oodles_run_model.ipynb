{
 "cells": [
  {
   "cell_type": "code",
   "execution_count": 1,
   "metadata": {},
   "outputs": [],
   "source": [
    "import sys\n",
    "import os\n",
    "import subprocess\n",
    "import zipfile\n",
    "import numpy as np\n",
    "\n",
    "from oodles import Framework\n",
    "from oodles import Signal\n",
    "from oodles import monitor\n",
    "from oodles import ModelSignal, AnnotationMethod\n",
    "\n",
    "from dataset import input_to_dataset_transformation, read_json, write_json\n",
    "from model import run_real_world_inference, get_accuracy\n",
    "from pushup_signal import pushup_signal\n",
    "from train import train_model\n",
    "from contextlib import redirect_stdout\n",
    "\n",
    "orig_training_file = 'data/training_data.json'"
   ]
  },
  {
   "cell_type": "code",
   "execution_count": 2,
   "metadata": {
    "tags": []
   },
   "outputs": [],
   "source": [
    "data_dir = \"data\"\n",
    "remote_url = \"https://oodles-dev-training-data.s3.amazonaws.com/data.zip\"\n",
    "if not os.path.exists(data_dir):\n",
    "    try:\n",
    "        file_downloaded_ok = subprocess.check_output(\"wget \" + remote_url, shell=True)\n",
    "    except:\n",
    "        print(\"Could not load training data\")\n",
    "    with zipfile.ZipFile(\"data.zip\", 'r') as zip_ref:\n",
    "        zip_ref.extractall(\"./\")\n",
    "\n",
    "    full_training_data = read_json(orig_training_file)\n",
    "    np.random.seed(1)\n",
    "    np.random.shuffle(full_training_data)\n",
    "    reduced_training_data = full_training_data[0:1000]\n",
    "    write_json(orig_training_file, reduced_training_data)"
   ]
  },
  {
   "cell_type": "code",
   "execution_count": 3,
   "metadata": {},
   "outputs": [],
   "source": [
    "real_world_test_cases = 'data/real_world_testing_data.json'\n",
    "data_save_fold_name = 'oodles_smart_data'\n",
    "my_signal = (Signal(\"Pushup\", pushup_signal) | Signal(ModelSignal.BINARY_ENTROPY_CONFIDENCE, \n",
    "                is_model_signal=True, extra_args={'conf_threshold': 0.8}))\n",
    "golden_testing_file = 'data/golden_testing_data.json'\n",
    "annotation_args = {'master_file': 'data/master_annotation_data.json'}"
   ]
  },
  {
   "cell_type": "code",
   "execution_count": 4,
   "metadata": {},
   "outputs": [
    {
     "name": "stdout",
     "output_type": "stream",
     "text": [
      "Deleting the folder:  oodles_smart_data\n"
     ]
    }
   ],
   "source": [
    "cfg = {\n",
    "    # Define your signal to identify edge cases\n",
    "    \"checks\": [{\n",
    "        'type': 'Edge cases', \n",
    "        \"signal_formulae\": (Signal(\"Pushup\", pushup_signal) | Signal(ModelSignal.BINARY_ENTROPY_CONFIDENCE, \n",
    "                is_model_signal=True, extra_args={'conf_threshold': 0.8}))}],\n",
    "\n",
    "    # Connect training pipeline to annotate data and retrain the model\n",
    "    \"training_args\": {\n",
    "        \"data_transformation_func\": input_to_dataset_transformation,  \n",
    "        \"annotation_method\": {\"method\": AnnotationMethod.MASTER_FILE, \"args\": annotation_args}, \n",
    "        \"training_func\": train_model, \n",
    "        \"fold_name\": data_save_fold_name,  \n",
    "        \"orig_training_file\": orig_training_file,  \n",
    "    },\n",
    "\n",
    "    # Connect evaluation pipeline to test retrained model against original model\n",
    "    \"evaluation_args\": {\n",
    "        \"inference_func\": get_accuracy,\n",
    "        \"golden_testing_dataset\": golden_testing_file,\n",
    "        \"metrics_to_check\": ['accuracy']\n",
    "    }\n",
    "}\n",
    "\n",
    "framework = Framework(cfg)\n",
    "\n",
    "@monitor(framework)\n",
    "def model_predict(args):\n",
    "    with open('evaluation_logs.txt', 'w') as f:\n",
    "        with redirect_stdout(f):\n",
    "            return args['model'].predict(args['kps'])"
   ]
  },
  {
   "cell_type": "code",
   "execution_count": 5,
   "metadata": {},
   "outputs": [
    {
     "name": "stdout",
     "output_type": "stream",
     "text": [
      "Training on:  data/training_data.json  which has  1000  data-points\n"
     ]
    },
    {
     "name": "stderr",
     "output_type": "stream",
     "text": [
      "2022-11-07 12:50:16.243208: I tensorflow/core/platform/cpu_feature_guard.cc:193] This TensorFlow binary is optimized with oneAPI Deep Neural Network Library (oneDNN) to use the following CPU instructions in performance-critical operations:  SSE4.1 SSE4.2\n",
      "To enable them in other operations, rebuild TensorFlow with the appropriate compiler flags.\n"
     ]
    },
    {
     "name": "stdout",
     "output_type": "stream",
     "text": [
      "Epoch 1/10\n",
      "3/3 [==============================] - 1s 163ms/step - loss: 144.1491 - binary_accuracy: 0.2969\n",
      "Epoch 2/10\n",
      "3/3 [==============================] - 1s 166ms/step - loss: 133.6838 - binary_accuracy: 0.2656\n",
      "Epoch 3/10\n",
      "3/3 [==============================] - 0s 157ms/step - loss: 126.0872 - binary_accuracy: 0.2852\n",
      "Epoch 4/10\n",
      "3/3 [==============================] - 0s 158ms/step - loss: 111.6418 - binary_accuracy: 0.2956\n",
      "Epoch 5/10\n",
      "3/3 [==============================] - 0s 158ms/step - loss: 101.4496 - binary_accuracy: 0.3451\n",
      "Epoch 6/10\n",
      "3/3 [==============================] - 0s 168ms/step - loss: 90.7025 - binary_accuracy: 0.3346\n",
      "Epoch 7/10\n",
      "3/3 [==============================] - 0s 159ms/step - loss: 87.3748 - binary_accuracy: 0.3398\n",
      "Epoch 8/10\n",
      "3/3 [==============================] - 1s 172ms/step - loss: 80.0875 - binary_accuracy: 0.3359\n",
      "Epoch 9/10\n",
      "3/3 [==============================] - 0s 159ms/step - loss: 75.6675 - binary_accuracy: 0.3581\n",
      "Epoch 10/10\n",
      "3/3 [==============================] - 0s 164ms/step - loss: 66.5572 - binary_accuracy: 0.3841\n",
      "INFO:tensorflow:Assets written to: trained_models/initial_model/assets\n",
      "Model saved at:  trained_models/initial_model\n"
     ]
    }
   ],
   "source": [
    "train_model('data/training_data.json', 'initial_model')"
   ]
  },
  {
   "cell_type": "code",
   "execution_count": 6,
   "metadata": {
    "tags": []
   },
   "outputs": [
    {
     "name": "stdout",
     "output_type": "stream",
     "text": [
      "50  edge-cases collected out of  188  inferred samples\n",
      "100  edge-cases collected out of  399  inferred samples\n",
      "150  edge-cases collected out of  616  inferred samples\n",
      "200  edge-cases collected out of  812  inferred samples\n",
      "250  edge-cases collected out of  964  inferred samples\n",
      "Kicking off re-training\n",
      "251 data-points selected out of 968\n",
      "Training on:  oodles_smart_data/1/training_dataset.json  which has  2255  data-points\n",
      "Epoch 1/10\n",
      "8/8 [==============================] - 1s 160ms/step - loss: 27.8980 - binary_accuracy: 0.7070\n",
      "Epoch 2/10\n",
      "8/8 [==============================] - 1s 158ms/step - loss: 15.6873 - binary_accuracy: 0.6396\n",
      "Epoch 3/10\n",
      "8/8 [==============================] - 1s 160ms/step - loss: 13.8421 - binary_accuracy: 0.5703\n",
      "Epoch 4/10\n",
      "8/8 [==============================] - 1s 163ms/step - loss: 10.3562 - binary_accuracy: 0.6992\n",
      "Epoch 5/10\n",
      "8/8 [==============================] - 1s 161ms/step - loss: 8.3677 - binary_accuracy: 0.7163\n",
      "Epoch 6/10\n",
      "8/8 [==============================] - 1s 159ms/step - loss: 5.6622 - binary_accuracy: 0.7339\n",
      "Epoch 7/10\n",
      "8/8 [==============================] - 1s 161ms/step - loss: 4.1008 - binary_accuracy: 0.7798\n",
      "Epoch 8/10\n",
      "8/8 [==============================] - 1s 161ms/step - loss: 3.4095 - binary_accuracy: 0.8052\n",
      "Epoch 9/10\n",
      "8/8 [==============================] - 1s 160ms/step - loss: 2.7267 - binary_accuracy: 0.8350\n",
      "Epoch 10/10\n",
      "8/8 [==============================] - 1s 163ms/step - loss: 2.3345 - binary_accuracy: 0.8604\n",
      "INFO:tensorflow:Assets written to: trained_models/version_1/assets\n",
      "Model saved at:  trained_models/version_1\n",
      "Model retraining done...\n",
      "Generating comparison report...\n",
      "Training on:  data/training_data.json  which has  1000  data-points\n",
      "Epoch 1/10\n",
      "3/3 [==============================] - 1s 161ms/step - loss: 132.4848 - binary_accuracy: 0.3255\n",
      "Epoch 2/10\n",
      "3/3 [==============================] - 0s 164ms/step - loss: 118.6239 - binary_accuracy: 0.3138\n",
      "Epoch 3/10\n",
      "3/3 [==============================] - 0s 155ms/step - loss: 93.5408 - binary_accuracy: 0.3398\n",
      "Epoch 4/10\n",
      "3/3 [==============================] - 0s 160ms/step - loss: 75.3666 - binary_accuracy: 0.3555\n",
      "Epoch 5/10\n",
      "3/3 [==============================] - 0s 158ms/step - loss: 59.4346 - binary_accuracy: 0.3919\n",
      "Epoch 6/10\n",
      "3/3 [==============================] - 0s 159ms/step - loss: 46.7912 - binary_accuracy: 0.4870\n",
      "Epoch 7/10\n",
      "3/3 [==============================] - 0s 157ms/step - loss: 41.5346 - binary_accuracy: 0.5951\n",
      "Epoch 8/10\n",
      "3/3 [==============================] - 0s 158ms/step - loss: 36.5134 - binary_accuracy: 0.6979\n",
      "Epoch 9/10\n",
      "3/3 [==============================] - 0s 159ms/step - loss: 33.6657 - binary_accuracy: 0.7448\n",
      "Epoch 10/10\n",
      "3/3 [==============================] - 0s 156ms/step - loss: 37.9676 - binary_accuracy: 0.7773\n",
      "INFO:tensorflow:Assets written to: trained_models/version_0/assets\n",
      "Model saved at:  trained_models/version_0\n",
      "Evaluating on  15731  data-points\n",
      "492/492 [==============================] - 0s 350us/step\n",
      "Evaluating on  15731  data-points\n",
      "492/492 [==============================] - 0s 350us/step\n",
      "---------------------------------------------\n",
      "---------------------------------------------\n",
      "Old model accuracy:  0.7335833704151039\n",
      "Retrained model accuracy (ie 251 smartly collected data-points added):  0.7979149450130316\n",
      "---------------------------------------------\n",
      "---------------------------------------------\n",
      "50  edge-cases collected out of  1165  inferred samples\n",
      "100  edge-cases collected out of  1347  inferred samples\n",
      "150  edge-cases collected out of  1489  inferred samples\n"
     ]
    }
   ],
   "source": [
    "run_real_world_inference(real_world_test_cases, 'initial_model', model_predict)"
   ]
  }
 ],
 "metadata": {
  "kernelspec": {
   "display_name": "Python 3 (ipykernel)",
   "language": "python",
   "name": "python3"
  },
  "language_info": {
   "codemirror_mode": {
    "name": "ipython",
    "version": 3
   },
   "file_extension": ".py",
   "mimetype": "text/x-python",
   "name": "python",
   "nbconvert_exporter": "python",
   "pygments_lexer": "ipython3",
   "version": "3.10.4"
  }
 },
 "nbformat": 4,
 "nbformat_minor": 4
}
